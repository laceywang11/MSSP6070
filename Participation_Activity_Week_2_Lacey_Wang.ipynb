{
  "nbformat": 4,
  "nbformat_minor": 0,
  "metadata": {
    "colab": {
      "provenance": [],
      "authorship_tag": "ABX9TyMtkaocr5YZcb38amxJ6+PL",
      "include_colab_link": true
    },
    "kernelspec": {
      "name": "python3",
      "display_name": "Python 3"
    },
    "language_info": {
      "name": "python"
    }
  },
  "cells": [
    {
      "cell_type": "markdown",
      "metadata": {
        "id": "view-in-github",
        "colab_type": "text"
      },
      "source": [
        "<a href=\"https://colab.research.google.com/github/laceywang11/MSSP6070/blob/main/Participation_Activity_Week_2_Lacey_Wang.ipynb\" target=\"_parent\"><img src=\"https://colab.research.google.com/assets/colab-badge.svg\" alt=\"Open In Colab\"/></a>"
      ]
    },
    {
      "cell_type": "code",
      "execution_count": 7,
      "metadata": {
        "colab": {
          "base_uri": "https://localhost:8080/"
        },
        "id": "o5kRyfNS7Oyu",
        "outputId": "cca0d79d-e56f-4fca-9a06-3923bdc7a295"
      },
      "outputs": [
        {
          "output_type": "stream",
          "name": "stdout",
          "text": [
            "[2, 4, 'hello', 8, 10]\n"
          ]
        }
      ],
      "source": [
        "spam=[2,4,6,8,10]\n",
        "spam[2]=\"hello\"\n",
        "print(spam)"
      ]
    },
    {
      "cell_type": "code",
      "source": [
        "letters=['a','b','c','d']\n",
        "print(letters)\n",
        "letters[int(int('3'*2)//11)] #Firstly,'3'*2 is string '33', then int('33') converts it from string to integer 33. Integer 33//11 is 3, which means the function is letters[3]='d'\n",
        "print(letters[int(int('3'*2)//11)])\n",
        "letters[-1] #-1 means the last element which is 'd'\n",
        "print(letters[-1])\n",
        "letters[:2] #[:2] means the elements from index 0 to 2 but not including 2, so it is index 0 and 1 which is 'a' and 'b'\n",
        "print(letters[:2])"
      ],
      "metadata": {
        "colab": {
          "base_uri": "https://localhost:8080/"
        },
        "id": "yrSHZV0O-qMx",
        "outputId": "4360e7ec-b770-4ef7-d09d-026ba586d23c"
      },
      "execution_count": 22,
      "outputs": [
        {
          "output_type": "stream",
          "name": "stdout",
          "text": [
            "['a', 'b', 'c', 'd']\n",
            "d\n",
            "d\n",
            "['a', 'b']\n"
          ]
        }
      ]
    },
    {
      "cell_type": "code",
      "source": [
        "List1=[1,2,3,4,5]\n",
        "Tuple1=tuple(List1)\n",
        "print(Tuple1)\n",
        "List2=list(Tuple1)\n",
        "print(List2)"
      ],
      "metadata": {
        "colab": {
          "base_uri": "https://localhost:8080/"
        },
        "id": "yY2kF21RE4rZ",
        "outputId": "903fbbae-c177-4c54-9387-8284d76fae9a"
      },
      "execution_count": 15,
      "outputs": [
        {
          "output_type": "stream",
          "name": "stdout",
          "text": [
            "(1, 2, 3, 4, 5)\n",
            "[1, 2, 3, 4, 5]\n"
          ]
        }
      ]
    },
    {
      "cell_type": "code",
      "source": [
        "def practice_week2(items):\n",
        "  result=\"\"\n",
        "  for item in items:\n",
        "    if item==items[-1]:\n",
        "      result=result+\"and \"+item\n",
        "    else:\n",
        "      result=result+item+\",\"\n",
        "  return result\n",
        "spam = ['apples', 'bananas', 'tofu', 'cats']\n",
        "print(practice_week2(spam))"
      ],
      "metadata": {
        "colab": {
          "base_uri": "https://localhost:8080/"
        },
        "id": "dCDDgPKa3GaS",
        "outputId": "afd42201-7291-4152-9784-5b901cf3c1b4"
      },
      "execution_count": 2,
      "outputs": [
        {
          "output_type": "stream",
          "name": "stdout",
          "text": [
            "apples,bananas,tofu,and cats\n"
          ]
        }
      ]
    },
    {
      "cell_type": "markdown",
      "source": [],
      "metadata": {
        "id": "v6kc-JeD_aVf"
      }
    }
  ]
}