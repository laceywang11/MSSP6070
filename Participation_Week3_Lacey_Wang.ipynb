{
  "nbformat": 4,
  "nbformat_minor": 0,
  "metadata": {
    "colab": {
      "provenance": [],
      "authorship_tag": "ABX9TyOQxOydT6+ijLSywBrFpF4u",
      "include_colab_link": true
    },
    "kernelspec": {
      "name": "python3",
      "display_name": "Python 3"
    },
    "language_info": {
      "name": "python"
    }
  },
  "cells": [
    {
      "cell_type": "markdown",
      "metadata": {
        "id": "view-in-github",
        "colab_type": "text"
      },
      "source": [
        "<a href=\"https://colab.research.google.com/github/laceywang11/MSSP6070/blob/main/Participation_Week3_Lacey_Wang.ipynb\" target=\"_parent\"><img src=\"https://colab.research.google.com/assets/colab-badge.svg\" alt=\"Open In Colab\"/></a>"
      ]
    },
    {
      "cell_type": "markdown",
      "source": [
        "Q3.a:\n",
        "The code in a function runs only when the function is CALLED, not when it is just defined.\n",
        "\n",
        "Q3.b:\n",
        "There is one global scope per program. There can be many local scopes, and each function call creates its own local scope. Local scopes disappear when the function ends.\n",
        "\n",
        "Q3.c:\n",
        "Local variables disappear when the function returns. They exist only during that function call and aren’t accessible outside it.\n",
        "\n",
        "Q4,d:\n",
        "Use try/except to catch errors and handle them (e.g., show a message or choose a fallback) so the program doesn’t crash."
      ],
      "metadata": {
        "id": "aCPNNKZhBFWa"
      }
    },
    {
      "cell_type": "code",
      "source": [
        "#The Collatz Sequence\n",
        "def collatz(number):\n",
        "    if number % 2 == 0:\n",
        "        result = number // 2\n",
        "    else:\n",
        "        result = 3 * number + 1\n",
        "    print(result)\n",
        "    return(result)\n",
        "\n",
        "number = int(input(\"Enter a number: \"))\n",
        "while number != 1:\n",
        "    number = collatz(number)"
      ],
      "metadata": {
        "colab": {
          "base_uri": "https://localhost:8080/"
        },
        "id": "i5RKmvhNFl1s",
        "outputId": "61dc615f-ba42-4274-f341-c537d62b1305"
      },
      "execution_count": 19,
      "outputs": [
        {
          "output_type": "stream",
          "name": "stdout",
          "text": [
            "Enter a number: 11\n",
            "34\n",
            "17\n",
            "52\n",
            "26\n",
            "13\n",
            "40\n",
            "20\n",
            "10\n",
            "5\n",
            "16\n",
            "8\n",
            "4\n",
            "2\n",
            "1\n"
          ]
        }
      ]
    },
    {
      "cell_type": "markdown",
      "source": [],
      "metadata": {
        "id": "OXyxBF_S19XR"
      }
    }
  ]
}